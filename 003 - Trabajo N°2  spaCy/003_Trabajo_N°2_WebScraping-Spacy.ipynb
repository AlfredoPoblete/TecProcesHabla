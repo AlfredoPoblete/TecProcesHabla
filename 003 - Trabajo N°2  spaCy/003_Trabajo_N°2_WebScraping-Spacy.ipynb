{
  "nbformat": 4,
  "nbformat_minor": 0,
  "metadata": {
    "colab": {
      "provenance": [],
      "toc_visible": true
    },
    "kernelspec": {
      "name": "python3",
      "display_name": "Python 3"
    },
    "language_info": {
      "name": "python"
    }
  },
  "cells": [
    {
      "cell_type": "markdown",
      "source": [
        "# Trabajo N°2 Web scraping - spaCy\n",
        "\n",
        "El siguiente trabajo consiste en utilizar la libreria de spaCy para procesar un texto extraido de la web con web scraping, con la finalidad de realizar:\n",
        "\n",
        "\n",
        "\n",
        "*   Tokenizacion\n",
        "*   Reconocimiento de entidades\n",
        "*   Análisis de dependencias sintactica\n",
        "*   Graficar una nube de palabras\n",
        "\n",
        "\n"
      ],
      "metadata": {
        "id": "0s0EkW-_EUeX"
      }
    },
    {
      "cell_type": "markdown",
      "source": [
        "## 1 - Web Scraping\n",
        "\n",
        "Utilizamos Beautiful Soup para extraer un fragmento del cuento \"El gato con botas\" que se encuentra en la pagina."
      ],
      "metadata": {
        "id": "HmJk-ToF9E3Y"
      }
    },
    {
      "cell_type": "code",
      "execution_count": null,
      "metadata": {
        "id": "t3Vp4zOkyPFD"
      },
      "outputs": [],
      "source": [
        "# Importamos Librerias\n",
        "import requests\n",
        "from bs4 import BeautifulSoup"
      ]
    },
    {
      "cell_type": "code",
      "source": [
        "# Guardamos en una variable la url\n",
        "url = \"https://www.cuentosinfantiles.net/cuentos-el-gato-con-botas/\""
      ],
      "metadata": {
        "id": "J6MeVrR0z27n"
      },
      "execution_count": null,
      "outputs": []
    },
    {
      "cell_type": "code",
      "source": [
        "# Guardamos el contenido de la url en una variable\n",
        "contenido = requests.get(url).text"
      ],
      "metadata": {
        "id": "m8bpQfj00xSx"
      },
      "execution_count": null,
      "outputs": []
    },
    {
      "cell_type": "code",
      "source": [
        "# Parseamos el contenio con BeautifulSoup\n",
        "soup = BeautifulSoup(contenido, \"html.parser\")"
      ],
      "metadata": {
        "id": "d7c4v7VO6oXJ"
      },
      "execution_count": null,
      "outputs": []
    },
    {
      "cell_type": "code",
      "source": [
        "# Buscamos la etiqueta correspondiente al titulo y lo mostramos\n",
        "titulo = soup.find(\"h1\").get_text()\n",
        "print(f\"Titulo del cuento: '{titulo}'\\n\")\n",
        "\n",
        "# Creamos una variable con todos los parrafos que se encuentra en la pagina y lo mostramos\n",
        "texto = \"\\n\".join([p.get_text() for p in soup.find_all(\"p\")] )\n",
        "print(texto)"
      ],
      "metadata": {
        "id": "kRzYp6Ug6pkb"
      },
      "execution_count": null,
      "outputs": []
    },
    {
      "cell_type": "code",
      "source": [
        "# Recortamos una parte del texto\n",
        "palabra_objetivo = \"ahogando!”-\"\n",
        "palabras = texto.split()\n",
        "texto_extraido = \" \".join(palabras[:palabras.index(palabra_objetivo) + 1])\n",
        "print(texto_extraido)"
      ],
      "metadata": {
        "id": "Eio0zp_9TP7l"
      },
      "execution_count": null,
      "outputs": []
    },
    {
      "cell_type": "code",
      "source": [
        "# Limpiamos el texto extraido de simbolos\n",
        "texto_pequeño = texto_extraido.replace(\"”\", \"\").replace(\"-\", \"\").replace(\"“\", \"\").replace(\"!\", \" \").replace(\"¡\", \" \")\n",
        "print(texto_pequeño)"
      ],
      "metadata": {
        "id": "QNvFSOGa2DSe"
      },
      "execution_count": null,
      "outputs": []
    },
    {
      "cell_type": "markdown",
      "source": [
        "## 2 - Análisis de dependencia sintactica con spaCy\n",
        "\n",
        "La dependencia sintáctica es una relación entre dos elementos lingüísticos en la cual uno de ellos está subordinado, regido o exigido por el otro."
      ],
      "metadata": {
        "id": "TFpnwJu09XBW"
      }
    },
    {
      "cell_type": "code",
      "source": [
        "# Descargamos un modelo de lenguaje pre-entrenado en español de la biblioteca spaCy\n",
        "!python -m spacy download es_core_news_lg -q"
      ],
      "metadata": {
        "id": "uuT40AhSr_Ak"
      },
      "execution_count": null,
      "outputs": []
    },
    {
      "cell_type": "code",
      "source": [
        "# Importamos Librerias\n",
        "import spacy\n",
        "import es_core_news_lg\n",
        "from spacy import displacy"
      ],
      "metadata": {
        "id": "s4k2pDwBtjWy"
      },
      "execution_count": null,
      "outputs": []
    },
    {
      "cell_type": "code",
      "source": [
        "# Pipeline de Spacy: Cargamos el modelo\n",
        "nlp = spacy.load(\"es_core_news_lg\")\n",
        "nlp = es_core_news_lg.load()"
      ],
      "metadata": {
        "id": "XROdsYTwtyLp"
      },
      "execution_count": null,
      "outputs": []
    },
    {
      "cell_type": "code",
      "source": [
        "# Procesar el texto con Spacy\n",
        "texto_recortado = nlp(texto_pequeño)"
      ],
      "metadata": {
        "id": "ptTnyA9FuyCF"
      },
      "execution_count": null,
      "outputs": []
    },
    {
      "cell_type": "code",
      "source": [
        "# Tokenizacion\n",
        "tokens = [token.text for token in texto_recortado]\n",
        "print(tokens)"
      ],
      "metadata": {
        "id": "zKPu-lHBvsfQ"
      },
      "execution_count": null,
      "outputs": []
    },
    {
      "cell_type": "code",
      "source": [
        "# Lematizacion: forma base de cada token\n",
        "for token in texto_recortado:\n",
        "    if not token.is_punct and not token.is_space: # Ignoramos puntuación y espacios\n",
        "        print(f\"'{token.text}' ===> '{token.lemma_}'\")"
      ],
      "metadata": {
        "id": "X-3fvF7Lwl5x"
      },
      "execution_count": null,
      "outputs": []
    },
    {
      "cell_type": "code",
      "source": [
        "# Realizamos Etiquetado gramatical\n",
        "for token in texto_recortado:\n",
        "    if not token.is_space: # Ignoramos espacios\n",
        "        print(f\"'{token.text}' ===> {token.pos_} ({spacy.explain(token.pos_)}) ===> {token.tag_}\")"
      ],
      "metadata": {
        "id": "1lxtMfBXxgMl"
      },
      "execution_count": null,
      "outputs": []
    },
    {
      "cell_type": "code",
      "source": [
        "# Analisis de dependencia sintactica\n",
        "for token in texto_recortado:\n",
        "     if not token.is_space:\n",
        "        print(f\"'{token.text}' ==> {token.dep_} ({spacy.explain(token.dep_)}) ==> '{token.head.text}'\")"
      ],
      "metadata": {
        "id": "rC2baEuzyduK"
      },
      "execution_count": null,
      "outputs": []
    },
    {
      "cell_type": "code",
      "source": [
        "# Visualización de dependencias y entidades\n",
        "displacy.render(texto_recortado, style='dep', jupyter=True, options={'distance': 100, 'color': '#60C878', 'bg': 'black', 'font': 'Courier New'})"
      ],
      "metadata": {
        "id": "khIG9P4Oy06W"
      },
      "execution_count": null,
      "outputs": []
    },
    {
      "cell_type": "code",
      "source": [
        "# Buscamos y mostramos las entidades en el fragmento del cuento\n",
        "if texto_recortado.ents:\n",
        "    print(\"Entidades encontradas en el fragmento del cuento:\")\n",
        "    print(\"[Texto de la Entidad] -> [Etiqueta]\")\n",
        "    for ent in texto_recortado.ents:\n",
        "        print(f\"[{ent.text}] ==> {ent.label_} ({spacy.explain(ent.label_)})\")\n",
        "else:\n",
        "    print(\"No se encontraron entidades.\")"
      ],
      "metadata": {
        "id": "RdCC4UHXzl5O"
      },
      "execution_count": null,
      "outputs": []
    },
    {
      "cell_type": "code",
      "source": [
        "# Resaltamos la entidad en el texto\n",
        "displacy.render(texto_recortado,style='ent',jupyter=True,options={'distance':200})"
      ],
      "metadata": {
        "id": "YiENpGV8z_lA"
      },
      "execution_count": null,
      "outputs": []
    },
    {
      "cell_type": "markdown",
      "source": [
        "##3 - Calculamos la frecuencia de palabras clave\n",
        "\n",
        "Necesarias para crear la nube de palabras"
      ],
      "metadata": {
        "id": "bNeeW3pnBmIH"
      }
    },
    {
      "cell_type": "code",
      "source": [
        "# Importamos Libreria\n",
        "from collections import Counter"
      ],
      "metadata": {
        "id": "41A4QZeWB7Py"
      },
      "execution_count": null,
      "outputs": []
    },
    {
      "cell_type": "code",
      "source": [
        "# Creamos una lista vacia\n",
        "palabras_clave = []"
      ],
      "metadata": {
        "id": "vvqmivjeBrjc"
      },
      "execution_count": null,
      "outputs": []
    },
    {
      "cell_type": "code",
      "source": [
        "# Normalización: Obtener lema y convertir a minúsculas\n",
        "for token in texto_recortado:\n",
        "    if token.is_alpha and not token.is_stop:\n",
        "      palabras_clave.append(token.lemma_.lower()) # Agregamos palabras clave en minuscula a la lista vacia\n",
        "\n",
        "print(f\"Se extrajeron {len(palabras_clave)} palabras clave.\")\n",
        "# Ejemplo de las primeras palabras extraídas:\n",
        "print(f\"Ejemplo: {palabras_clave[:20]}\")"
      ],
      "metadata": {
        "id": "uluxFRq4By44"
      },
      "execution_count": null,
      "outputs": []
    },
    {
      "cell_type": "code",
      "source": [
        "# Contamos las veces que se repite la palabra clave y lo almacenamos en una variable\n",
        "frecuencia_palabras = Counter(palabras_clave)"
      ],
      "metadata": {
        "id": "3QMNcsKx1kFd"
      },
      "execution_count": null,
      "outputs": []
    },
    {
      "cell_type": "code",
      "source": [
        "# Establecemos un numero de palabras mas comunes y mostramos la frecuencia de la misma\n",
        "N = 15\n",
        "palabras_mas_comunes = frecuencia_palabras.most_common(N)\n",
        "for palabra, frecuencia in palabras_mas_comunes:\n",
        "    print(f\"[*] '{palabra}' : {frecuencia}\")"
      ],
      "metadata": {
        "id": "hDUh6xlr1rMB"
      },
      "execution_count": null,
      "outputs": []
    },
    {
      "cell_type": "markdown",
      "source": [
        "## 4 - Graficamos una Nube de Palabras"
      ],
      "metadata": {
        "id": "WDcUGboGKFwr"
      }
    },
    {
      "cell_type": "code",
      "source": [
        "# Importamos Librerias\n",
        "from wordcloud import WordCloud\n",
        "import matplotlib.pyplot as plt"
      ],
      "metadata": {
        "id": "keff2ght12ce"
      },
      "execution_count": null,
      "outputs": []
    },
    {
      "cell_type": "code",
      "source": [
        "# Creamos y configuramos la nube de palabras\n",
        "wordcloud_generator = WordCloud(\n",
        "    width=700, # Ancho\n",
        "    height=350, # Alto\n",
        "    background_color='green', # Color de fondo de pantalla\n",
        "    colormap='inferno', # Paleta de colores\n",
        "    max_words=30,      # Mostrar máximo 50 palabras\n",
        "    stopwords=None,    # Colocamos None por lo que filtramos stop words antes\n",
        "    collocations=False # Evitar que agrupe palabras\n",
        ").generate_from_frequencies(frecuencia_palabras) # Generamos la nube con las frecuencias calculadas"
      ],
      "metadata": {
        "id": "16I7dgsC16rw"
      },
      "execution_count": null,
      "outputs": []
    },
    {
      "cell_type": "code",
      "source": [
        "# Configuramos el tamaño del ploteo\n",
        "plt.figure(figsize=(8, 6)) # Tamaño de la figura\n",
        "plt.imshow(wordcloud_generator, interpolation='bilinear') # Muestra la imagen con filtro\n",
        "plt.axis(\"off\") # Para no mostrar los ejes X e Y\n",
        "plt.tight_layout(pad=0) # Ajustar para que no haya bordes extra\n",
        "plt.show() # Muestra el grafico creado"
      ],
      "metadata": {
        "id": "f75Kc-xK1-xU"
      },
      "execution_count": null,
      "outputs": []
    },
    {
      "cell_type": "markdown",
      "source": [
        "Conformando una representación visual de las palabras más frecuentes del fragmento del cuento."
      ],
      "metadata": {
        "id": "-RP_gRCZoeKl"
      }
    }
  ]
}
